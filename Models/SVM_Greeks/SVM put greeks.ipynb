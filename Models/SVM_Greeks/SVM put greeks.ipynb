{
 "cells": [
  {
   "cell_type": "code",
   "execution_count": 1,
   "source": [
    "import numpy as np\r\n",
    "import pandas as pd\r\n",
    "import matplotlib.pyplot as plt\r\n",
    "import os\r\n",
    "import sklearn\r\n",
    "from sklearn.metrics import mean_absolute_error, mean_squared_error\r\n"
   ],
   "outputs": [],
   "metadata": {}
  },
  {
   "cell_type": "code",
   "execution_count": 2,
   "source": [
    "df_put=pd.read_csv(\"FINAL PUT DATA.csv\")\r\n",
    "df_put"
   ],
   "outputs": [
    {
     "output_type": "execute_result",
     "data": {
      "text/html": [
       "<div>\n",
       "<style scoped>\n",
       "    .dataframe tbody tr th:only-of-type {\n",
       "        vertical-align: middle;\n",
       "    }\n",
       "\n",
       "    .dataframe tbody tr th {\n",
       "        vertical-align: top;\n",
       "    }\n",
       "\n",
       "    .dataframe thead th {\n",
       "        text-align: right;\n",
       "    }\n",
       "</style>\n",
       "<table border=\"1\" class=\"dataframe\">\n",
       "  <thead>\n",
       "    <tr style=\"text-align: right;\">\n",
       "      <th></th>\n",
       "      <th>[UNDERLYING_LAST]</th>\n",
       "      <th>[DTE]</th>\n",
       "      <th>[STRIKE]</th>\n",
       "      <th>[P_LAST]</th>\n",
       "      <th>[P_DELTA]</th>\n",
       "      <th>[P_GAMMA]</th>\n",
       "      <th>[P_VEGA]</th>\n",
       "      <th>[P_THETA]</th>\n",
       "      <th>[P_RHO]</th>\n",
       "      <th>[P_IV]</th>\n",
       "      <th>Put_BS</th>\n",
       "    </tr>\n",
       "  </thead>\n",
       "  <tbody>\n",
       "    <tr>\n",
       "      <th>0</th>\n",
       "      <td>172.17</td>\n",
       "      <td>0.008219</td>\n",
       "      <td>135.0</td>\n",
       "      <td>0.02</td>\n",
       "      <td>-0.00103</td>\n",
       "      <td>0.00027</td>\n",
       "      <td>0.00070</td>\n",
       "      <td>-0.00390</td>\n",
       "      <td>0.00000</td>\n",
       "      <td>0.77790</td>\n",
       "      <td>0.000762</td>\n",
       "    </tr>\n",
       "    <tr>\n",
       "      <th>1</th>\n",
       "      <td>172.17</td>\n",
       "      <td>0.008219</td>\n",
       "      <td>140.0</td>\n",
       "      <td>0.01</td>\n",
       "      <td>-0.00095</td>\n",
       "      <td>0.00038</td>\n",
       "      <td>0.00059</td>\n",
       "      <td>-0.00447</td>\n",
       "      <td>0.00000</td>\n",
       "      <td>0.67034</td>\n",
       "      <td>0.000797</td>\n",
       "    </tr>\n",
       "    <tr>\n",
       "      <th>2</th>\n",
       "      <td>172.17</td>\n",
       "      <td>0.008219</td>\n",
       "      <td>144.0</td>\n",
       "      <td>0.01</td>\n",
       "      <td>-0.00151</td>\n",
       "      <td>0.00046</td>\n",
       "      <td>0.00119</td>\n",
       "      <td>-0.00462</td>\n",
       "      <td>-0.00043</td>\n",
       "      <td>0.58576</td>\n",
       "      <td>0.000820</td>\n",
       "    </tr>\n",
       "    <tr>\n",
       "      <th>3</th>\n",
       "      <td>172.17</td>\n",
       "      <td>0.008219</td>\n",
       "      <td>145.0</td>\n",
       "      <td>0.01</td>\n",
       "      <td>-0.00214</td>\n",
       "      <td>0.00056</td>\n",
       "      <td>0.00065</td>\n",
       "      <td>-0.00460</td>\n",
       "      <td>0.00000</td>\n",
       "      <td>0.56515</td>\n",
       "      <td>0.000833</td>\n",
       "    </tr>\n",
       "    <tr>\n",
       "      <th>4</th>\n",
       "      <td>172.17</td>\n",
       "      <td>0.008219</td>\n",
       "      <td>146.0</td>\n",
       "      <td>0.01</td>\n",
       "      <td>-0.00191</td>\n",
       "      <td>0.00055</td>\n",
       "      <td>0.00094</td>\n",
       "      <td>-0.00450</td>\n",
       "      <td>0.00000</td>\n",
       "      <td>0.54460</td>\n",
       "      <td>0.000845</td>\n",
       "    </tr>\n",
       "    <tr>\n",
       "      <th>...</th>\n",
       "      <td>...</td>\n",
       "      <td>...</td>\n",
       "      <td>...</td>\n",
       "      <td>...</td>\n",
       "      <td>...</td>\n",
       "      <td>...</td>\n",
       "      <td>...</td>\n",
       "      <td>...</td>\n",
       "      <td>...</td>\n",
       "      <td>...</td>\n",
       "      <td>...</td>\n",
       "    </tr>\n",
       "    <tr>\n",
       "      <th>241798</th>\n",
       "      <td>293.20</td>\n",
       "      <td>2.060274</td>\n",
       "      <td>350.0</td>\n",
       "      <td>80.38</td>\n",
       "      <td>-0.69845</td>\n",
       "      <td>0.00415</td>\n",
       "      <td>1.41879</td>\n",
       "      <td>-0.02242</td>\n",
       "      <td>-5.75046</td>\n",
       "      <td>0.19411</td>\n",
       "      <td>59.202701</td>\n",
       "    </tr>\n",
       "    <tr>\n",
       "      <th>241799</th>\n",
       "      <td>293.20</td>\n",
       "      <td>2.060274</td>\n",
       "      <td>360.0</td>\n",
       "      <td>82.05</td>\n",
       "      <td>-0.74304</td>\n",
       "      <td>0.00396</td>\n",
       "      <td>1.30360</td>\n",
       "      <td>-0.02135</td>\n",
       "      <td>-6.15503</td>\n",
       "      <td>0.18650</td>\n",
       "      <td>65.179230</td>\n",
       "    </tr>\n",
       "    <tr>\n",
       "      <th>241800</th>\n",
       "      <td>293.20</td>\n",
       "      <td>2.060274</td>\n",
       "      <td>370.0</td>\n",
       "      <td>111.23</td>\n",
       "      <td>-0.78759</td>\n",
       "      <td>0.00361</td>\n",
       "      <td>1.15885</td>\n",
       "      <td>-0.01832</td>\n",
       "      <td>-6.57983</td>\n",
       "      <td>0.17749</td>\n",
       "      <td>71.388575</td>\n",
       "    </tr>\n",
       "    <tr>\n",
       "      <th>241801</th>\n",
       "      <td>293.20</td>\n",
       "      <td>2.060274</td>\n",
       "      <td>380.0</td>\n",
       "      <td>97.00</td>\n",
       "      <td>-0.83230</td>\n",
       "      <td>0.00330</td>\n",
       "      <td>0.98488</td>\n",
       "      <td>-0.01639</td>\n",
       "      <td>-7.00828</td>\n",
       "      <td>0.16808</td>\n",
       "      <td>78.021552</td>\n",
       "    </tr>\n",
       "    <tr>\n",
       "      <th>241802</th>\n",
       "      <td>293.20</td>\n",
       "      <td>2.060274</td>\n",
       "      <td>430.0</td>\n",
       "      <td>143.05</td>\n",
       "      <td>-1.00000</td>\n",
       "      <td>0.00000</td>\n",
       "      <td>47.41053</td>\n",
       "      <td>0.00000</td>\n",
       "      <td>0.00000</td>\n",
       "      <td>0.00018</td>\n",
       "      <td>117.744916</td>\n",
       "    </tr>\n",
       "  </tbody>\n",
       "</table>\n",
       "<p>241803 rows × 11 columns</p>\n",
       "</div>"
      ],
      "text/plain": [
       "         [UNDERLYING_LAST]     [DTE]   [STRIKE]   [P_LAST]   [P_DELTA]  \\\n",
       "0                   172.17  0.008219      135.0       0.02    -0.00103   \n",
       "1                   172.17  0.008219      140.0       0.01    -0.00095   \n",
       "2                   172.17  0.008219      144.0       0.01    -0.00151   \n",
       "3                   172.17  0.008219      145.0       0.01    -0.00214   \n",
       "4                   172.17  0.008219      146.0       0.01    -0.00191   \n",
       "...                    ...       ...        ...        ...         ...   \n",
       "241798              293.20  2.060274      350.0      80.38    -0.69845   \n",
       "241799              293.20  2.060274      360.0      82.05    -0.74304   \n",
       "241800              293.20  2.060274      370.0     111.23    -0.78759   \n",
       "241801              293.20  2.060274      380.0      97.00    -0.83230   \n",
       "241802              293.20  2.060274      430.0     143.05    -1.00000   \n",
       "\n",
       "         [P_GAMMA]   [P_VEGA]   [P_THETA]   [P_RHO]   [P_IV]      Put_BS  \n",
       "0          0.00027    0.00070    -0.00390   0.00000  0.77790    0.000762  \n",
       "1          0.00038    0.00059    -0.00447   0.00000  0.67034    0.000797  \n",
       "2          0.00046    0.00119    -0.00462  -0.00043  0.58576    0.000820  \n",
       "3          0.00056    0.00065    -0.00460   0.00000  0.56515    0.000833  \n",
       "4          0.00055    0.00094    -0.00450   0.00000  0.54460    0.000845  \n",
       "...            ...        ...         ...       ...      ...         ...  \n",
       "241798     0.00415    1.41879    -0.02242  -5.75046  0.19411   59.202701  \n",
       "241799     0.00396    1.30360    -0.02135  -6.15503  0.18650   65.179230  \n",
       "241800     0.00361    1.15885    -0.01832  -6.57983  0.17749   71.388575  \n",
       "241801     0.00330    0.98488    -0.01639  -7.00828  0.16808   78.021552  \n",
       "241802     0.00000   47.41053     0.00000   0.00000  0.00018  117.744916  \n",
       "\n",
       "[241803 rows x 11 columns]"
      ]
     },
     "metadata": {},
     "execution_count": 2
    }
   ],
   "metadata": {}
  },
  {
   "cell_type": "code",
   "execution_count": 3,
   "source": [
    "n = len(df_put)\r\n",
    "n_train =  (int)(0.7 * n)\r\n",
    "print(n_train)"
   ],
   "outputs": [
    {
     "output_type": "stream",
     "name": "stdout",
     "text": [
      "169262\n"
     ]
    }
   ],
   "metadata": {}
  },
  {
   "cell_type": "code",
   "execution_count": 4,
   "source": [
    "train = df_put[0:n_train]\r\n",
    "X_train = train[[' [UNDERLYING_LAST]', ' [DTE]', ' [STRIKE]', ' [P_IV]', ' [P_DELTA]', \r\n",
    "                 ' [P_GAMMA]', ' [P_VEGA]', ' [P_THETA]', ' [P_RHO]']].values\r\n",
    "y_train = train[' [P_LAST]'].values"
   ],
   "outputs": [],
   "metadata": {}
  },
  {
   "cell_type": "code",
   "execution_count": 6,
   "source": [
    "from sklearn.preprocessing import StandardScaler\r\n",
    "scaler = StandardScaler()"
   ],
   "outputs": [],
   "metadata": {}
  },
  {
   "cell_type": "code",
   "execution_count": 7,
   "source": [
    "X_train_scaled=scaler.fit_transform(X_train)"
   ],
   "outputs": [],
   "metadata": {}
  },
  {
   "cell_type": "code",
   "execution_count": 8,
   "source": [
    "y_train=y_train.reshape(-1,1)\r\n",
    "y_train_scaled=scaler.fit_transform(y_train)"
   ],
   "outputs": [],
   "metadata": {}
  },
  {
   "cell_type": "code",
   "execution_count": 9,
   "source": [
    "y_train_scaled2=np.ravel(y_train_scaled)"
   ],
   "outputs": [],
   "metadata": {}
  },
  {
   "cell_type": "code",
   "execution_count": 10,
   "source": [
    "y_train_scaled2.shape"
   ],
   "outputs": [
    {
     "output_type": "execute_result",
     "data": {
      "text/plain": [
       "(169262,)"
      ]
     },
     "metadata": {},
     "execution_count": 10
    }
   ],
   "metadata": {}
  },
  {
   "cell_type": "code",
   "execution_count": 11,
   "source": [
    "from sklearn import svm\r\n",
    "reg_SVM_put_greeks = svm.SVR()\r\n",
    "reg_SVM_put_greeks.fit(X_train_scaled, y_train_scaled2)"
   ],
   "outputs": [
    {
     "output_type": "execute_result",
     "data": {
      "text/plain": [
       "SVR()"
      ]
     },
     "metadata": {},
     "execution_count": 11
    }
   ],
   "metadata": {}
  },
  {
   "cell_type": "code",
   "execution_count": 12,
   "source": [
    "y_pred=reg_SVM_put_greeks.predict(X_train_scaled)"
   ],
   "outputs": [],
   "metadata": {}
  },
  {
   "cell_type": "code",
   "execution_count": 13,
   "source": [
    "y_pred=scaler.inverse_transform(y_pred)\r\n",
    "y_pred"
   ],
   "outputs": [
    {
     "output_type": "execute_result",
     "data": {
      "text/plain": [
       "array([0.16101087, 0.31199658, 0.50430482, ..., 2.8824831 , 3.64312051,\n",
       "       5.90879773])"
      ]
     },
     "metadata": {},
     "execution_count": 13
    }
   ],
   "metadata": {}
  },
  {
   "cell_type": "code",
   "execution_count": 14,
   "source": [
    "train['Put_SVM']=y_pred"
   ],
   "outputs": [
    {
     "output_type": "stream",
     "name": "stderr",
     "text": [
      "<ipython-input-14-72b70746813f>:1: SettingWithCopyWarning: \n",
      "A value is trying to be set on a copy of a slice from a DataFrame.\n",
      "Try using .loc[row_indexer,col_indexer] = value instead\n",
      "\n",
      "See the caveats in the documentation: https://pandas.pydata.org/pandas-docs/stable/user_guide/indexing.html#returning-a-view-versus-a-copy\n",
      "  train['Put_SVM']=y_pred\n"
     ]
    }
   ],
   "metadata": {}
  },
  {
   "cell_type": "code",
   "execution_count": 15,
   "source": [
    "y_true=train[' [P_LAST]']\r\n",
    "y_pred=train['Put_SVM']\r\n",
    "print('MAE = ', mean_absolute_error(y_true, y_pred))\r\n",
    "print('MSE = ', mean_squared_error(y_true, y_pred))\r\n",
    "print('RMSE = ', mean_squared_error(y_true, y_pred, squared=False))"
   ],
   "outputs": [
    {
     "output_type": "stream",
     "name": "stdout",
     "text": [
      "MAE =  1.8502797155996997\n",
      "MSE =  22.82962106276386\n",
      "RMSE =  4.778035272239403\n"
     ]
    }
   ],
   "metadata": {}
  },
  {
   "cell_type": "code",
   "execution_count": 16,
   "source": [
    "plt.scatter(y_true, y_pred,color='black',linewidth=0.2,alpha=0.5, s=0.5)\r\n",
    "plt.xlabel('Actual Price')\r\n",
    "plt.ylabel('Calculated Price') \r\n",
    "plt.show()"
   ],
   "outputs": [
    {
     "output_type": "display_data",
     "data": {
      "image/png": "[encoded data removed]",
      "text/plain": [
       "<Figure size 432x288 with 1 Axes>"
      ]
     },
     "metadata": {
      "needs_background": "light"
     }
    }
   ],
   "metadata": {}
  },
  {
   "cell_type": "code",
   "execution_count": 17,
   "source": [
    "stats = dict()\r\n",
    "stats['diff'] = y_true - y_pred\r\n",
    "plt.hist(stats['diff'], bins=60,edgecolor='black',color='white')\r\n",
    "plt.xlabel('Difference')\r\n",
    "plt.ylabel('Density')\r\n",
    "plt.show()"
   ],
   "outputs": [
    {
     "output_type": "display_data",
     "data": {
      "image/png": "[encoded data removed]",
      "text/plain": [
       "<Figure size 432x288 with 1 Axes>"
      ]
     },
     "metadata": {
      "needs_background": "light"
     }
    }
   ],
   "metadata": {}
  },
  {
   "cell_type": "code",
   "execution_count": 18,
   "source": [
    "test = df_put[n_train+1:n]\r\n",
    "X_test = test[[' [UNDERLYING_LAST]', ' [DTE]', ' [STRIKE]', ' [P_IV]', ' [P_DELTA]', \r\n",
    "                 ' [P_GAMMA]', ' [P_VEGA]', ' [P_THETA]', ' [P_RHO]']].values\r\n",
    "y_test = test[' [P_LAST]'].values"
   ],
   "outputs": [],
   "metadata": {}
  },
  {
   "cell_type": "code",
   "execution_count": 19,
   "source": [
    "X_test_scaled=scaler.fit_transform(X_test)\r\n",
    "y_test=y_test.reshape(-1,1)\r\n",
    "y_test_scaled=scaler.fit_transform(y_test)\r\n",
    "y_test_scaled2=np.ravel(y_test_scaled)"
   ],
   "outputs": [],
   "metadata": {}
  },
  {
   "cell_type": "code",
   "execution_count": 20,
   "source": [
    "y_pred_test=reg_SVM_put_greeks.predict(X_test_scaled)"
   ],
   "outputs": [],
   "metadata": {}
  },
  {
   "cell_type": "code",
   "execution_count": 21,
   "source": [
    "y_pred_test=scaler.inverse_transform(y_pred_test)"
   ],
   "outputs": [],
   "metadata": {}
  },
  {
   "cell_type": "code",
   "execution_count": 22,
   "source": [
    "test['Put_SVM']=y_pred_test\r\n",
    "test"
   ],
   "outputs": [
    {
     "output_type": "stream",
     "name": "stderr",
     "text": [
      "<ipython-input-22-775b7ef90b76>:1: SettingWithCopyWarning: \n",
      "A value is trying to be set on a copy of a slice from a DataFrame.\n",
      "Try using .loc[row_indexer,col_indexer] = value instead\n",
      "\n",
      "See the caveats in the documentation: https://pandas.pydata.org/pandas-docs/stable/user_guide/indexing.html#returning-a-view-versus-a-copy\n",
      "  test['Put_SVM']=y_pred_test\n"
     ]
    },
    {
     "output_type": "execute_result",
     "data": {
      "text/html": [
       "<div>\n",
       "<style scoped>\n",
       "    .dataframe tbody tr th:only-of-type {\n",
       "        vertical-align: middle;\n",
       "    }\n",
       "\n",
       "    .dataframe tbody tr th {\n",
       "        vertical-align: top;\n",
       "    }\n",
       "\n",
       "    .dataframe thead th {\n",
       "        text-align: right;\n",
       "    }\n",
       "</style>\n",
       "<table border=\"1\" class=\"dataframe\">\n",
       "  <thead>\n",
       "    <tr style=\"text-align: right;\">\n",
       "      <th></th>\n",
       "      <th>[UNDERLYING_LAST]</th>\n",
       "      <th>[DTE]</th>\n",
       "      <th>[STRIKE]</th>\n",
       "      <th>[P_LAST]</th>\n",
       "      <th>[P_DELTA]</th>\n",
       "      <th>[P_GAMMA]</th>\n",
       "      <th>[P_VEGA]</th>\n",
       "      <th>[P_THETA]</th>\n",
       "      <th>[P_RHO]</th>\n",
       "      <th>[P_IV]</th>\n",
       "      <th>Put_BS</th>\n",
       "      <th>Put_SVM</th>\n",
       "    </tr>\n",
       "  </thead>\n",
       "  <tbody>\n",
       "    <tr>\n",
       "      <th>169263</th>\n",
       "      <td>194.19</td>\n",
       "      <td>1.597370</td>\n",
       "      <td>155.0</td>\n",
       "      <td>9.31</td>\n",
       "      <td>-0.21728</td>\n",
       "      <td>0.00458</td>\n",
       "      <td>0.71246</td>\n",
       "      <td>-0.01784</td>\n",
       "      <td>-0.82469</td>\n",
       "      <td>0.25979</td>\n",
       "      <td>6.751424</td>\n",
       "      <td>3.986275</td>\n",
       "    </tr>\n",
       "    <tr>\n",
       "      <th>169264</th>\n",
       "      <td>194.19</td>\n",
       "      <td>1.597370</td>\n",
       "      <td>160.0</td>\n",
       "      <td>10.60</td>\n",
       "      <td>-0.24403</td>\n",
       "      <td>0.00499</td>\n",
       "      <td>0.75959</td>\n",
       "      <td>-0.01922</td>\n",
       "      <td>-0.93018</td>\n",
       "      <td>0.25462</td>\n",
       "      <td>7.759016</td>\n",
       "      <td>4.984088</td>\n",
       "    </tr>\n",
       "    <tr>\n",
       "      <th>169265</th>\n",
       "      <td>194.19</td>\n",
       "      <td>1.597370</td>\n",
       "      <td>165.0</td>\n",
       "      <td>11.85</td>\n",
       "      <td>-0.27321</td>\n",
       "      <td>0.00539</td>\n",
       "      <td>0.80422</td>\n",
       "      <td>-0.01951</td>\n",
       "      <td>-1.04431</td>\n",
       "      <td>0.24932</td>\n",
       "      <td>8.862789</td>\n",
       "      <td>5.890584</td>\n",
       "    </tr>\n",
       "    <tr>\n",
       "      <th>169266</th>\n",
       "      <td>194.19</td>\n",
       "      <td>1.597370</td>\n",
       "      <td>170.0</td>\n",
       "      <td>14.00</td>\n",
       "      <td>-0.30350</td>\n",
       "      <td>0.00573</td>\n",
       "      <td>0.84444</td>\n",
       "      <td>-0.02100</td>\n",
       "      <td>-1.16709</td>\n",
       "      <td>0.24518</td>\n",
       "      <td>10.166727</td>\n",
       "      <td>7.244791</td>\n",
       "    </tr>\n",
       "    <tr>\n",
       "      <th>169267</th>\n",
       "      <td>194.19</td>\n",
       "      <td>1.597370</td>\n",
       "      <td>175.0</td>\n",
       "      <td>15.53</td>\n",
       "      <td>-0.33531</td>\n",
       "      <td>0.00607</td>\n",
       "      <td>0.87844</td>\n",
       "      <td>-0.02109</td>\n",
       "      <td>-1.29530</td>\n",
       "      <td>0.23976</td>\n",
       "      <td>11.495512</td>\n",
       "      <td>8.437961</td>\n",
       "    </tr>\n",
       "    <tr>\n",
       "      <th>...</th>\n",
       "      <td>...</td>\n",
       "      <td>...</td>\n",
       "      <td>...</td>\n",
       "      <td>...</td>\n",
       "      <td>...</td>\n",
       "      <td>...</td>\n",
       "      <td>...</td>\n",
       "      <td>...</td>\n",
       "      <td>...</td>\n",
       "      <td>...</td>\n",
       "      <td>...</td>\n",
       "      <td>...</td>\n",
       "    </tr>\n",
       "    <tr>\n",
       "      <th>241798</th>\n",
       "      <td>293.20</td>\n",
       "      <td>2.060274</td>\n",
       "      <td>350.0</td>\n",
       "      <td>80.38</td>\n",
       "      <td>-0.69845</td>\n",
       "      <td>0.00415</td>\n",
       "      <td>1.41879</td>\n",
       "      <td>-0.02242</td>\n",
       "      <td>-5.75046</td>\n",
       "      <td>0.19411</td>\n",
       "      <td>59.202701</td>\n",
       "      <td>60.204060</td>\n",
       "    </tr>\n",
       "    <tr>\n",
       "      <th>241799</th>\n",
       "      <td>293.20</td>\n",
       "      <td>2.060274</td>\n",
       "      <td>360.0</td>\n",
       "      <td>82.05</td>\n",
       "      <td>-0.74304</td>\n",
       "      <td>0.00396</td>\n",
       "      <td>1.30360</td>\n",
       "      <td>-0.02135</td>\n",
       "      <td>-6.15503</td>\n",
       "      <td>0.18650</td>\n",
       "      <td>65.179230</td>\n",
       "      <td>65.783186</td>\n",
       "    </tr>\n",
       "    <tr>\n",
       "      <th>241800</th>\n",
       "      <td>293.20</td>\n",
       "      <td>2.060274</td>\n",
       "      <td>370.0</td>\n",
       "      <td>111.23</td>\n",
       "      <td>-0.78759</td>\n",
       "      <td>0.00361</td>\n",
       "      <td>1.15885</td>\n",
       "      <td>-0.01832</td>\n",
       "      <td>-6.57983</td>\n",
       "      <td>0.17749</td>\n",
       "      <td>71.388575</td>\n",
       "      <td>71.478371</td>\n",
       "    </tr>\n",
       "    <tr>\n",
       "      <th>241801</th>\n",
       "      <td>293.20</td>\n",
       "      <td>2.060274</td>\n",
       "      <td>380.0</td>\n",
       "      <td>97.00</td>\n",
       "      <td>-0.83230</td>\n",
       "      <td>0.00330</td>\n",
       "      <td>0.98488</td>\n",
       "      <td>-0.01639</td>\n",
       "      <td>-7.00828</td>\n",
       "      <td>0.16808</td>\n",
       "      <td>78.021552</td>\n",
       "      <td>77.455562</td>\n",
       "    </tr>\n",
       "    <tr>\n",
       "      <th>241802</th>\n",
       "      <td>293.20</td>\n",
       "      <td>2.060274</td>\n",
       "      <td>430.0</td>\n",
       "      <td>143.05</td>\n",
       "      <td>-1.00000</td>\n",
       "      <td>0.00000</td>\n",
       "      <td>47.41053</td>\n",
       "      <td>0.00000</td>\n",
       "      <td>0.00000</td>\n",
       "      <td>0.00018</td>\n",
       "      <td>117.744916</td>\n",
       "      <td>92.654720</td>\n",
       "    </tr>\n",
       "  </tbody>\n",
       "</table>\n",
       "<p>72540 rows × 12 columns</p>\n",
       "</div>"
      ],
      "text/plain": [
       "         [UNDERLYING_LAST]     [DTE]   [STRIKE]   [P_LAST]   [P_DELTA]  \\\n",
       "169263              194.19  1.597370      155.0       9.31    -0.21728   \n",
       "169264              194.19  1.597370      160.0      10.60    -0.24403   \n",
       "169265              194.19  1.597370      165.0      11.85    -0.27321   \n",
       "169266              194.19  1.597370      170.0      14.00    -0.30350   \n",
       "169267              194.19  1.597370      175.0      15.53    -0.33531   \n",
       "...                    ...       ...        ...        ...         ...   \n",
       "241798              293.20  2.060274      350.0      80.38    -0.69845   \n",
       "241799              293.20  2.060274      360.0      82.05    -0.74304   \n",
       "241800              293.20  2.060274      370.0     111.23    -0.78759   \n",
       "241801              293.20  2.060274      380.0      97.00    -0.83230   \n",
       "241802              293.20  2.060274      430.0     143.05    -1.00000   \n",
       "\n",
       "         [P_GAMMA]   [P_VEGA]   [P_THETA]   [P_RHO]   [P_IV]      Put_BS  \\\n",
       "169263     0.00458    0.71246    -0.01784  -0.82469  0.25979    6.751424   \n",
       "169264     0.00499    0.75959    -0.01922  -0.93018  0.25462    7.759016   \n",
       "169265     0.00539    0.80422    -0.01951  -1.04431  0.24932    8.862789   \n",
       "169266     0.00573    0.84444    -0.02100  -1.16709  0.24518   10.166727   \n",
       "169267     0.00607    0.87844    -0.02109  -1.29530  0.23976   11.495512   \n",
       "...            ...        ...         ...       ...      ...         ...   \n",
       "241798     0.00415    1.41879    -0.02242  -5.75046  0.19411   59.202701   \n",
       "241799     0.00396    1.30360    -0.02135  -6.15503  0.18650   65.179230   \n",
       "241800     0.00361    1.15885    -0.01832  -6.57983  0.17749   71.388575   \n",
       "241801     0.00330    0.98488    -0.01639  -7.00828  0.16808   78.021552   \n",
       "241802     0.00000   47.41053     0.00000   0.00000  0.00018  117.744916   \n",
       "\n",
       "          Put_SVM  \n",
       "169263   3.986275  \n",
       "169264   4.984088  \n",
       "169265   5.890584  \n",
       "169266   7.244791  \n",
       "169267   8.437961  \n",
       "...           ...  \n",
       "241798  60.204060  \n",
       "241799  65.783186  \n",
       "241800  71.478371  \n",
       "241801  77.455562  \n",
       "241802  92.654720  \n",
       "\n",
       "[72540 rows x 12 columns]"
      ]
     },
     "metadata": {},
     "execution_count": 22
    }
   ],
   "metadata": {}
  },
  {
   "cell_type": "code",
   "execution_count": 23,
   "source": [
    "y_true=test[' [P_LAST]']\r\n",
    "y_pred=test['Put_SVM']\r\n",
    "print('MAE = ', mean_absolute_error(y_true, y_pred))\r\n",
    "print('MSE = ', mean_squared_error(y_true, y_pred))\r\n",
    "print('RMSE = ', mean_squared_error(y_true, y_pred, squared=False))"
   ],
   "outputs": [
    {
     "output_type": "stream",
     "name": "stdout",
     "text": [
      "MAE =  5.217559067777436\n",
      "MSE =  76.1568442294055\n",
      "RMSE =  8.726788884200506\n"
     ]
    }
   ],
   "metadata": {}
  },
  {
   "cell_type": "code",
   "execution_count": 24,
   "source": [
    "plt.scatter(y_true, y_pred,color='black',linewidth=0.2,alpha=0.5, s=0.5)\r\n",
    "plt.xlabel('Actual Price')\r\n",
    "plt.ylabel('Calculated Price') \r\n",
    "plt.show()"
   ],
   "outputs": [
    {
     "output_type": "display_data",
     "data": {
      "image/png": "[encoded data removed]",
      "text/plain": [
       "<Figure size 432x288 with 1 Axes>"
      ]
     },
     "metadata": {
      "needs_background": "light"
     }
    }
   ],
   "metadata": {}
  },
  {
   "cell_type": "code",
   "execution_count": 25,
   "source": [
    "tats = dict()\r\n",
    "stats['diff'] = y_true - y_pred\r\n",
    "plt.hist(stats['diff'], bins=60,edgecolor='black',color='white')\r\n",
    "plt.xlabel('Difference')\r\n",
    "plt.ylabel('Density')\r\n",
    "plt.show()"
   ],
   "outputs": [
    {
     "output_type": "display_data",
     "data": {
      "image/png": "[encoded data removed]",
      "text/plain": [
       "<Figure size 432x288 with 1 Axes>"
      ]
     },
     "metadata": {
      "needs_background": "light"
     }
    }
   ],
   "metadata": {}
  },
  {
   "cell_type": "code",
   "execution_count": 30,
   "source": [
    "# train.to_csv('SVM GREEKS train PUT FINAL Results.csv', mode='a', index=False, header=True)\r\n",
    "# test.to_csv('SVM GREEKS test PUT FINAL Results.csv', mode='a', index=False, header=True)\r\n"
   ],
   "outputs": [],
   "metadata": {}
  },
  {
   "cell_type": "code",
   "execution_count": 31,
   "source": [
    "# import pickle\r\n",
    "# filename = 'Put_SVM_greeks.sav'\r\n",
    "# pickle.dump(reg_SVM_put_greeks, open(filename, 'wb'))\r\n"
   ],
   "outputs": [],
   "metadata": {}
  },
  {
   "cell_type": "code",
   "execution_count": 28,
   "source": [
    "# load the model from disk\r\n",
    "# loaded_model = pickle.load(open(filename, 'rb'))"
   ],
   "outputs": [],
   "metadata": {}
  },
  {
   "cell_type": "code",
   "execution_count": 29,
   "source": [
    "# from sklearn.model_selection import GridSearchCV\r\n",
    "\r\n",
    "# params_grid = {'kernel' : ['rbf'], 'C' : [0.1, 1], 'epsilon' : [0.1, 0.01, 1]}\r\n",
    "# optimal_params = GridSearchCV(svm.SVR(), params_grid, cv=5, scoring='neg_mean_absolute_error',  n_jobs=6, verbose=2)\r\n",
    "# optimal_params.fit(X_train_scaled, y_train_scaled2)\r\n",
    "# print(optimal_params.best_params_)\r\n"
   ],
   "outputs": [],
   "metadata": {}
  },
  {
   "cell_type": "code",
   "execution_count": null,
   "source": [],
   "outputs": [],
   "metadata": {}
  },
  {
   "cell_type": "code",
   "execution_count": null,
   "source": [],
   "outputs": [],
   "metadata": {}
  }
 ],
 "metadata": {
  "orig_nbformat": 4,
  "language_info": {
   "name": "python",
   "version": "3.8.8",
   "mimetype": "text/x-python",
   "codemirror_mode": {
    "name": "ipython",
    "version": 3
   },
   "pygments_lexer": "ipython3",
   "nbconvert_exporter": "python",
   "file_extension": ".py"
  },
  "kernelspec": {
   "name": "python3",
   "display_name": "Python 3.8.8 64-bit ('base': conda)"
  },
  "interpreter": {
   "hash": "b310091ee003783f556d785ff3b15c9e2c80cd092c59d33a102c114cf3375f02"
  }
 },
 "nbformat": 4,
 "nbformat_minor": 2
}