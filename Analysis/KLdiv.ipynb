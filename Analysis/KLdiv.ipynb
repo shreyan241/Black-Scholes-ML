{
 "cells": [
  {
   "cell_type": "code",
   "execution_count": 140,
   "metadata": {},
   "outputs": [],
   "source": [
    "import numpy as np\n",
    "import pandas as pd\n",
    "import matplotlib.pyplot as plt"
   ]
  },
  {
   "cell_type": "code",
   "execution_count": 141,
   "metadata": {},
   "outputs": [],
   "source": [
    "path=r'C:\\Users\\shrey\\Desktop\\Black-Scholes ML\\Models\\XGB_Greeks\\XGB GREEKS PUT test FINAL Results.csv'\n",
    "df=pd.read_csv(path)"
   ]
  },
  {
   "cell_type": "code",
   "execution_count": 142,
   "metadata": {},
   "outputs": [],
   "source": [
    "df=df[df['Put_XGB']>0]\n",
    "df['Norm_a'] = df[' [P_LAST]']/df[' [P_LAST]'].sum()\n",
    "df['Norm_b'] = df['Put_XGB']/df['Put_XGB'].sum()\n",
    "a=df['Norm_a']\n",
    "b=df['Norm_b']\n"
   ]
  },
  {
   "cell_type": "code",
   "execution_count": 143,
   "metadata": {},
   "outputs": [
    {
     "name": "stdout",
     "output_type": "stream",
     "text": [
      "0.17327072647246414\n"
     ]
    }
   ],
   "source": [
    "def kl_divergence(p, q):\n",
    "    return np.sum(np.where(p != 0, p * np.log(p / q), 0))\n",
    "    \n",
    "print(kl_divergence(a,b))"
   ]
  },
  {
   "cell_type": "code",
   "execution_count": 144,
   "metadata": {},
   "outputs": [
    {
     "name": "stdout",
     "output_type": "stream",
     "text": [
      "0.24997681781305212\n"
     ]
    }
   ],
   "source": [
    "# def kl_divergence2(p, q):\n",
    "#     return np.sum(np.where(p != 0, p * np.log2(p / q), 0))\n",
    "\n",
    "# print(kl_divergence2(a,b))"
   ]
  },
  {
   "cell_type": "code",
   "execution_count": null,
   "metadata": {},
   "outputs": [],
   "source": []
  }
 ],
 "metadata": {
  "interpreter": {
   "hash": "b310091ee003783f556d785ff3b15c9e2c80cd092c59d33a102c114cf3375f02"
  },
  "kernelspec": {
   "display_name": "Python 3.8.8 64-bit ('base': conda)",
   "language": "python",
   "name": "python3"
  },
  "language_info": {
   "codemirror_mode": {
    "name": "ipython",
    "version": 3
   },
   "file_extension": ".py",
   "mimetype": "text/x-python",
   "name": "python",
   "nbconvert_exporter": "python",
   "pygments_lexer": "ipython3",
   "version": "3.8.8"
  },
  "orig_nbformat": 4
 },
 "nbformat": 4,
 "nbformat_minor": 2
}
