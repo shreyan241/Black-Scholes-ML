{
 "cells": [
  {
   "cell_type": "code",
   "execution_count": 1,
   "source": [
    "import numpy as np\r\n",
    "import pandas as pd\r\n",
    "import matplotlib.pyplot as plt\r\n",
    "import os\r\n",
    "import sklearn\r\n",
    "from sklearn.metrics import mean_absolute_error, mean_squared_error"
   ],
   "outputs": [],
   "metadata": {}
  },
  {
   "cell_type": "code",
   "execution_count": 3,
   "source": [
    "df=pd.read_csv('MLP CALL test FINAL Results.csv')\r\n",
    "df"
   ],
   "outputs": [
    {
     "output_type": "execute_result",
     "data": {
      "text/html": [
       "<div>\n",
       "<style scoped>\n",
       "    .dataframe tbody tr th:only-of-type {\n",
       "        vertical-align: middle;\n",
       "    }\n",
       "\n",
       "    .dataframe tbody tr th {\n",
       "        vertical-align: top;\n",
       "    }\n",
       "\n",
       "    .dataframe thead th {\n",
       "        text-align: right;\n",
       "    }\n",
       "</style>\n",
       "<table border=\"1\" class=\"dataframe\">\n",
       "  <thead>\n",
       "    <tr style=\"text-align: right;\">\n",
       "      <th></th>\n",
       "      <th>[UNDERLYING_LAST]</th>\n",
       "      <th>[DTE]</th>\n",
       "      <th>[C_DELTA]</th>\n",
       "      <th>[C_GAMMA]</th>\n",
       "      <th>[C_VEGA]</th>\n",
       "      <th>[C_THETA]</th>\n",
       "      <th>[C_RHO]</th>\n",
       "      <th>[C_IV]</th>\n",
       "      <th>[C_LAST]</th>\n",
       "      <th>[STRIKE]</th>\n",
       "      <th>Call_BS</th>\n",
       "      <th>Call_MLP</th>\n",
       "    </tr>\n",
       "  </thead>\n",
       "  <tbody>\n",
       "    <tr>\n",
       "      <th>0</th>\n",
       "      <td>179.02</td>\n",
       "      <td>1.649425</td>\n",
       "      <td>0.47056</td>\n",
       "      <td>0.00645</td>\n",
       "      <td>0.91520</td>\n",
       "      <td>-0.02033</td>\n",
       "      <td>1.08559</td>\n",
       "      <td>0.26887</td>\n",
       "      <td>18.55</td>\n",
       "      <td>195.0</td>\n",
       "      <td>20.895615</td>\n",
       "      <td>16.759176</td>\n",
       "    </tr>\n",
       "    <tr>\n",
       "      <th>1</th>\n",
       "      <td>179.02</td>\n",
       "      <td>1.649425</td>\n",
       "      <td>0.44009</td>\n",
       "      <td>0.00641</td>\n",
       "      <td>0.90725</td>\n",
       "      <td>-0.02019</td>\n",
       "      <td>1.02520</td>\n",
       "      <td>0.26711</td>\n",
       "      <td>16.70</td>\n",
       "      <td>200.0</td>\n",
       "      <td>18.986668</td>\n",
       "      <td>14.750557</td>\n",
       "    </tr>\n",
       "    <tr>\n",
       "      <th>2</th>\n",
       "      <td>179.02</td>\n",
       "      <td>1.649425</td>\n",
       "      <td>0.41070</td>\n",
       "      <td>0.00633</td>\n",
       "      <td>0.89419</td>\n",
       "      <td>-0.01936</td>\n",
       "      <td>0.96454</td>\n",
       "      <td>0.26497</td>\n",
       "      <td>14.95</td>\n",
       "      <td>205.0</td>\n",
       "      <td>17.174165</td>\n",
       "      <td>13.128058</td>\n",
       "    </tr>\n",
       "    <tr>\n",
       "      <th>3</th>\n",
       "      <td>179.02</td>\n",
       "      <td>1.649425</td>\n",
       "      <td>0.38230</td>\n",
       "      <td>0.00629</td>\n",
       "      <td>0.87701</td>\n",
       "      <td>-0.01918</td>\n",
       "      <td>0.90546</td>\n",
       "      <td>0.26478</td>\n",
       "      <td>13.60</td>\n",
       "      <td>210.0</td>\n",
       "      <td>15.664548</td>\n",
       "      <td>11.697142</td>\n",
       "    </tr>\n",
       "    <tr>\n",
       "      <th>4</th>\n",
       "      <td>179.02</td>\n",
       "      <td>1.649425</td>\n",
       "      <td>0.35522</td>\n",
       "      <td>0.00610</td>\n",
       "      <td>0.85580</td>\n",
       "      <td>-0.01888</td>\n",
       "      <td>0.84713</td>\n",
       "      <td>0.26322</td>\n",
       "      <td>12.55</td>\n",
       "      <td>215.0</td>\n",
       "      <td>14.150901</td>\n",
       "      <td>10.438192</td>\n",
       "    </tr>\n",
       "    <tr>\n",
       "      <th>...</th>\n",
       "      <td>...</td>\n",
       "      <td>...</td>\n",
       "      <td>...</td>\n",
       "      <td>...</td>\n",
       "      <td>...</td>\n",
       "      <td>...</td>\n",
       "      <td>...</td>\n",
       "      <td>...</td>\n",
       "      <td>...</td>\n",
       "      <td>...</td>\n",
       "      <td>...</td>\n",
       "      <td>...</td>\n",
       "    </tr>\n",
       "    <tr>\n",
       "      <th>83098</th>\n",
       "      <td>293.20</td>\n",
       "      <td>2.060274</td>\n",
       "      <td>0.18480</td>\n",
       "      <td>0.00260</td>\n",
       "      <td>1.12195</td>\n",
       "      <td>-0.01733</td>\n",
       "      <td>0.91873</td>\n",
       "      <td>0.24551</td>\n",
       "      <td>10.95</td>\n",
       "      <td>420.0</td>\n",
       "      <td>12.220778</td>\n",
       "      <td>8.622215</td>\n",
       "    </tr>\n",
       "    <tr>\n",
       "      <th>83099</th>\n",
       "      <td>293.20</td>\n",
       "      <td>2.060274</td>\n",
       "      <td>0.15494</td>\n",
       "      <td>0.00231</td>\n",
       "      <td>0.99964</td>\n",
       "      <td>-0.01550</td>\n",
       "      <td>0.77516</td>\n",
       "      <td>0.24797</td>\n",
       "      <td>6.00</td>\n",
       "      <td>440.0</td>\n",
       "      <td>10.053164</td>\n",
       "      <td>6.227463</td>\n",
       "    </tr>\n",
       "    <tr>\n",
       "      <th>83100</th>\n",
       "      <td>293.20</td>\n",
       "      <td>2.060274</td>\n",
       "      <td>0.08492</td>\n",
       "      <td>0.00159</td>\n",
       "      <td>0.65873</td>\n",
       "      <td>-0.00965</td>\n",
       "      <td>0.44507</td>\n",
       "      <td>0.23212</td>\n",
       "      <td>3.49</td>\n",
       "      <td>480.0</td>\n",
       "      <td>5.019698</td>\n",
       "      <td>3.561239</td>\n",
       "    </tr>\n",
       "    <tr>\n",
       "      <th>83101</th>\n",
       "      <td>293.20</td>\n",
       "      <td>2.060274</td>\n",
       "      <td>0.07622</td>\n",
       "      <td>0.00146</td>\n",
       "      <td>0.60341</td>\n",
       "      <td>-0.00848</td>\n",
       "      <td>0.39812</td>\n",
       "      <td>0.23210</td>\n",
       "      <td>2.85</td>\n",
       "      <td>490.0</td>\n",
       "      <td>4.428689</td>\n",
       "      <td>3.010648</td>\n",
       "    </tr>\n",
       "    <tr>\n",
       "      <th>83102</th>\n",
       "      <td>293.20</td>\n",
       "      <td>2.060274</td>\n",
       "      <td>0.07809</td>\n",
       "      <td>0.00140</td>\n",
       "      <td>0.61815</td>\n",
       "      <td>-0.00938</td>\n",
       "      <td>0.40820</td>\n",
       "      <td>0.24195</td>\n",
       "      <td>3.40</td>\n",
       "      <td>500.0</td>\n",
       "      <td>4.649710</td>\n",
       "      <td>2.520973</td>\n",
       "    </tr>\n",
       "  </tbody>\n",
       "</table>\n",
       "<p>83103 rows × 12 columns</p>\n",
       "</div>"
      ],
      "text/plain": [
       "        [UNDERLYING_LAST]     [DTE]   [C_DELTA]   [C_GAMMA]   [C_VEGA]  \\\n",
       "0                  179.02  1.649425     0.47056     0.00645    0.91520   \n",
       "1                  179.02  1.649425     0.44009     0.00641    0.90725   \n",
       "2                  179.02  1.649425     0.41070     0.00633    0.89419   \n",
       "3                  179.02  1.649425     0.38230     0.00629    0.87701   \n",
       "4                  179.02  1.649425     0.35522     0.00610    0.85580   \n",
       "...                   ...       ...         ...         ...        ...   \n",
       "83098              293.20  2.060274     0.18480     0.00260    1.12195   \n",
       "83099              293.20  2.060274     0.15494     0.00231    0.99964   \n",
       "83100              293.20  2.060274     0.08492     0.00159    0.65873   \n",
       "83101              293.20  2.060274     0.07622     0.00146    0.60341   \n",
       "83102              293.20  2.060274     0.07809     0.00140    0.61815   \n",
       "\n",
       "        [C_THETA]   [C_RHO]   [C_IV]   [C_LAST]   [STRIKE]    Call_BS  \\\n",
       "0        -0.02033   1.08559  0.26887      18.55      195.0  20.895615   \n",
       "1        -0.02019   1.02520  0.26711      16.70      200.0  18.986668   \n",
       "2        -0.01936   0.96454  0.26497      14.95      205.0  17.174165   \n",
       "3        -0.01918   0.90546  0.26478      13.60      210.0  15.664548   \n",
       "4        -0.01888   0.84713  0.26322      12.55      215.0  14.150901   \n",
       "...           ...       ...      ...        ...        ...        ...   \n",
       "83098    -0.01733   0.91873  0.24551      10.95      420.0  12.220778   \n",
       "83099    -0.01550   0.77516  0.24797       6.00      440.0  10.053164   \n",
       "83100    -0.00965   0.44507  0.23212       3.49      480.0   5.019698   \n",
       "83101    -0.00848   0.39812  0.23210       2.85      490.0   4.428689   \n",
       "83102    -0.00938   0.40820  0.24195       3.40      500.0   4.649710   \n",
       "\n",
       "        Call_MLP  \n",
       "0      16.759176  \n",
       "1      14.750557  \n",
       "2      13.128058  \n",
       "3      11.697142  \n",
       "4      10.438192  \n",
       "...          ...  \n",
       "83098   8.622215  \n",
       "83099   6.227463  \n",
       "83100   3.561239  \n",
       "83101   3.010648  \n",
       "83102   2.520973  \n",
       "\n",
       "[83103 rows x 12 columns]"
      ]
     },
     "metadata": {},
     "execution_count": 3
    }
   ],
   "metadata": {}
  },
  {
   "cell_type": "code",
   "execution_count": 8,
   "source": [
    "df_S=df[df[' [DTE]']<0.1]"
   ],
   "outputs": [],
   "metadata": {}
  },
  {
   "cell_type": "code",
   "execution_count": 9,
   "source": [
    "y_true=df_S[' [C_LAST]']\r\n",
    "y_pred=df_S['Call_MLP']\r\n",
    "print('MAE = ', mean_absolute_error(y_true, y_pred))\r\n",
    "print('MSE = ', mean_squared_error(y_true, y_pred))\r\n",
    "print('RMSE = ', mean_squared_error(y_true, y_pred, squared=False))"
   ],
   "outputs": [
    {
     "output_type": "stream",
     "name": "stdout",
     "text": [
      "MAE =  1.7395856772126514\n",
      "MSE =  12.789244484394015\n",
      "RMSE =  3.576205319104877\n"
     ]
    }
   ],
   "metadata": {}
  },
  {
   "cell_type": "code",
   "execution_count": 10,
   "source": [
    "df_M=df[df[' [DTE]'].between(0.1,0.5)]"
   ],
   "outputs": [],
   "metadata": {}
  },
  {
   "cell_type": "code",
   "execution_count": 11,
   "source": [
    "y_true=df_M[' [C_LAST]']\r\n",
    "y_pred=df_M['Call_MLP']\r\n",
    "print('MAE = ', mean_absolute_error(y_true, y_pred))\r\n",
    "print('MSE = ', mean_squared_error(y_true, y_pred))\r\n",
    "print('RMSE = ', mean_squared_error(y_true, y_pred, squared=False))"
   ],
   "outputs": [
    {
     "output_type": "stream",
     "name": "stdout",
     "text": [
      "MAE =  1.8708133667466904\n",
      "MSE =  12.312195456166505\n",
      "RMSE =  3.5088738159367465\n"
     ]
    }
   ],
   "metadata": {}
  },
  {
   "cell_type": "code",
   "execution_count": 12,
   "source": [
    "df_L=df[df[' [DTE]']>0.5]"
   ],
   "outputs": [],
   "metadata": {}
  },
  {
   "cell_type": "code",
   "execution_count": 13,
   "source": [
    "y_true=df_L[' [C_LAST]']\r\n",
    "y_pred=df_L['Call_MLP']\r\n",
    "print('MAE = ', mean_absolute_error(y_true, y_pred))\r\n",
    "print('MSE = ', mean_squared_error(y_true, y_pred))\r\n",
    "print('RMSE = ', mean_squared_error(y_true, y_pred, squared=False))"
   ],
   "outputs": [
    {
     "output_type": "stream",
     "name": "stdout",
     "text": [
      "MAE =  2.3944469673434727\n",
      "MSE =  16.48966865694957\n",
      "RMSE =  4.060747302769475\n"
     ]
    }
   ],
   "metadata": {}
  },
  {
   "cell_type": "code",
   "execution_count": 14,
   "source": [
    "x1=df_S[' [C_LAST]']\r\n",
    "y1=df_S['Call_MLP']\r\n",
    "x2=df_M[' [C_LAST]']\r\n",
    "y2=df_M['Call_MLP']\r\n",
    "x3=df_L[' [C_LAST]']\r\n",
    "y3=df_L['Call_MLP']\r\n",
    "plt.scatter(x1, y1,color='red',linewidth=0.2,alpha=0.5, s=0.5, label='S')\r\n",
    "plt.xlabel('Actual Price')\r\n",
    "plt.ylabel('Calculated Price') \r\n",
    "plt.show()\r\n",
    "plt.scatter(x2, y2,color='blue',linewidth=0.2,alpha=0.5, s=0.5, label='M')\r\n",
    "plt.xlabel('Actual Price')\r\n",
    "plt.ylabel('Calculated Price') \r\n",
    "plt.show()\r\n",
    "plt.scatter(x3, y3,color='green',linewidth=0.2,alpha=0.5, s=0.5, label='L')\r\n",
    "plt.xlabel('Actual Price')\r\n",
    "plt.ylabel('Calculated Price') \r\n",
    "plt.show()\r\n"
   ],
   "outputs": [
    {
     "output_type": "display_data",
     "data": {
      "image/png": "[encoded data removed]",
      "text/plain": [
       "<Figure size 432x288 with 1 Axes>"
      ]
     },
     "metadata": {
      "needs_background": "light"
     }
    },
    {
     "output_type": "display_data",
     "data": {
      "image/png": "[encoded data removed]",
      "text/plain": [
       "<Figure size 432x288 with 1 Axes>"
      ]
     },
     "metadata": {
      "needs_background": "light"
     }
    },
    {
     "output_type": "display_data",
     "data": {
      "image/png": "[encoded data removed]",
      "text/plain": [
       "<Figure size 432x288 with 1 Axes>"
      ]
     },
     "metadata": {
      "needs_background": "light"
     }
    }
   ],
   "metadata": {}
  },
  {
   "cell_type": "code",
   "execution_count": null,
   "source": [],
   "outputs": [],
   "metadata": {}
  },
  {
   "cell_type": "code",
   "execution_count": 15,
   "source": [
    "df=pd.read_csv('LSTM Put test FINAL Results.csv')\r\n",
    "df"
   ],
   "outputs": [
    {
     "output_type": "execute_result",
     "data": {
      "text/html": [
       "<div>\n",
       "<style scoped>\n",
       "    .dataframe tbody tr th:only-of-type {\n",
       "        vertical-align: middle;\n",
       "    }\n",
       "\n",
       "    .dataframe tbody tr th {\n",
       "        vertical-align: top;\n",
       "    }\n",
       "\n",
       "    .dataframe thead th {\n",
       "        text-align: right;\n",
       "    }\n",
       "</style>\n",
       "<table border=\"1\" class=\"dataframe\">\n",
       "  <thead>\n",
       "    <tr style=\"text-align: right;\">\n",
       "      <th></th>\n",
       "      <th>[UNDERLYING_LAST]</th>\n",
       "      <th>[DTE]</th>\n",
       "      <th>[STRIKE]</th>\n",
       "      <th>[P_LAST]</th>\n",
       "      <th>[P_DELTA]</th>\n",
       "      <th>[P_GAMMA]</th>\n",
       "      <th>[P_VEGA]</th>\n",
       "      <th>[P_THETA]</th>\n",
       "      <th>[P_RHO]</th>\n",
       "      <th>[P_IV]</th>\n",
       "      <th>Put_BS</th>\n",
       "      <th>Put_LSTM</th>\n",
       "    </tr>\n",
       "  </thead>\n",
       "  <tbody>\n",
       "    <tr>\n",
       "      <th>0</th>\n",
       "      <td>194.19</td>\n",
       "      <td>1.597370</td>\n",
       "      <td>155.0</td>\n",
       "      <td>9.31</td>\n",
       "      <td>-0.21728</td>\n",
       "      <td>0.00458</td>\n",
       "      <td>0.71246</td>\n",
       "      <td>-0.01784</td>\n",
       "      <td>-0.82469</td>\n",
       "      <td>0.25979</td>\n",
       "      <td>6.751424</td>\n",
       "      <td>10.223564</td>\n",
       "    </tr>\n",
       "    <tr>\n",
       "      <th>1</th>\n",
       "      <td>194.19</td>\n",
       "      <td>1.597370</td>\n",
       "      <td>160.0</td>\n",
       "      <td>10.60</td>\n",
       "      <td>-0.24403</td>\n",
       "      <td>0.00499</td>\n",
       "      <td>0.75959</td>\n",
       "      <td>-0.01922</td>\n",
       "      <td>-0.93018</td>\n",
       "      <td>0.25462</td>\n",
       "      <td>7.759016</td>\n",
       "      <td>11.630687</td>\n",
       "    </tr>\n",
       "    <tr>\n",
       "      <th>2</th>\n",
       "      <td>194.19</td>\n",
       "      <td>1.597370</td>\n",
       "      <td>165.0</td>\n",
       "      <td>11.85</td>\n",
       "      <td>-0.27321</td>\n",
       "      <td>0.00539</td>\n",
       "      <td>0.80422</td>\n",
       "      <td>-0.01951</td>\n",
       "      <td>-1.04431</td>\n",
       "      <td>0.24932</td>\n",
       "      <td>8.862789</td>\n",
       "      <td>13.089265</td>\n",
       "    </tr>\n",
       "    <tr>\n",
       "      <th>3</th>\n",
       "      <td>194.19</td>\n",
       "      <td>1.597370</td>\n",
       "      <td>170.0</td>\n",
       "      <td>14.00</td>\n",
       "      <td>-0.30350</td>\n",
       "      <td>0.00573</td>\n",
       "      <td>0.84444</td>\n",
       "      <td>-0.02100</td>\n",
       "      <td>-1.16709</td>\n",
       "      <td>0.24518</td>\n",
       "      <td>10.166727</td>\n",
       "      <td>14.684264</td>\n",
       "    </tr>\n",
       "    <tr>\n",
       "      <th>4</th>\n",
       "      <td>194.19</td>\n",
       "      <td>1.597370</td>\n",
       "      <td>175.0</td>\n",
       "      <td>15.53</td>\n",
       "      <td>-0.33531</td>\n",
       "      <td>0.00607</td>\n",
       "      <td>0.87844</td>\n",
       "      <td>-0.02109</td>\n",
       "      <td>-1.29530</td>\n",
       "      <td>0.23976</td>\n",
       "      <td>11.495512</td>\n",
       "      <td>16.382809</td>\n",
       "    </tr>\n",
       "    <tr>\n",
       "      <th>...</th>\n",
       "      <td>...</td>\n",
       "      <td>...</td>\n",
       "      <td>...</td>\n",
       "      <td>...</td>\n",
       "      <td>...</td>\n",
       "      <td>...</td>\n",
       "      <td>...</td>\n",
       "      <td>...</td>\n",
       "      <td>...</td>\n",
       "      <td>...</td>\n",
       "      <td>...</td>\n",
       "      <td>...</td>\n",
       "    </tr>\n",
       "    <tr>\n",
       "      <th>72535</th>\n",
       "      <td>293.20</td>\n",
       "      <td>2.060274</td>\n",
       "      <td>350.0</td>\n",
       "      <td>80.38</td>\n",
       "      <td>-0.69845</td>\n",
       "      <td>0.00415</td>\n",
       "      <td>1.41879</td>\n",
       "      <td>-0.02242</td>\n",
       "      <td>-5.75046</td>\n",
       "      <td>0.19411</td>\n",
       "      <td>59.202701</td>\n",
       "      <td>71.422640</td>\n",
       "    </tr>\n",
       "    <tr>\n",
       "      <th>72536</th>\n",
       "      <td>293.20</td>\n",
       "      <td>2.060274</td>\n",
       "      <td>360.0</td>\n",
       "      <td>82.05</td>\n",
       "      <td>-0.74304</td>\n",
       "      <td>0.00396</td>\n",
       "      <td>1.30360</td>\n",
       "      <td>-0.02135</td>\n",
       "      <td>-6.15503</td>\n",
       "      <td>0.18650</td>\n",
       "      <td>65.179230</td>\n",
       "      <td>84.157390</td>\n",
       "    </tr>\n",
       "    <tr>\n",
       "      <th>72537</th>\n",
       "      <td>293.20</td>\n",
       "      <td>2.060274</td>\n",
       "      <td>370.0</td>\n",
       "      <td>111.23</td>\n",
       "      <td>-0.78759</td>\n",
       "      <td>0.00361</td>\n",
       "      <td>1.15885</td>\n",
       "      <td>-0.01832</td>\n",
       "      <td>-6.57983</td>\n",
       "      <td>0.17749</td>\n",
       "      <td>71.388575</td>\n",
       "      <td>95.956640</td>\n",
       "    </tr>\n",
       "    <tr>\n",
       "      <th>72538</th>\n",
       "      <td>293.20</td>\n",
       "      <td>2.060274</td>\n",
       "      <td>380.0</td>\n",
       "      <td>97.00</td>\n",
       "      <td>-0.83230</td>\n",
       "      <td>0.00330</td>\n",
       "      <td>0.98488</td>\n",
       "      <td>-0.01639</td>\n",
       "      <td>-7.00828</td>\n",
       "      <td>0.16808</td>\n",
       "      <td>78.021552</td>\n",
       "      <td>105.336150</td>\n",
       "    </tr>\n",
       "    <tr>\n",
       "      <th>72539</th>\n",
       "      <td>293.20</td>\n",
       "      <td>2.060274</td>\n",
       "      <td>430.0</td>\n",
       "      <td>143.05</td>\n",
       "      <td>-1.00000</td>\n",
       "      <td>0.00000</td>\n",
       "      <td>47.41053</td>\n",
       "      <td>0.00000</td>\n",
       "      <td>0.00000</td>\n",
       "      <td>0.00018</td>\n",
       "      <td>117.744916</td>\n",
       "      <td>170.930710</td>\n",
       "    </tr>\n",
       "  </tbody>\n",
       "</table>\n",
       "<p>72540 rows × 12 columns</p>\n",
       "</div>"
      ],
      "text/plain": [
       "        [UNDERLYING_LAST]     [DTE]   [STRIKE]   [P_LAST]   [P_DELTA]  \\\n",
       "0                  194.19  1.597370      155.0       9.31    -0.21728   \n",
       "1                  194.19  1.597370      160.0      10.60    -0.24403   \n",
       "2                  194.19  1.597370      165.0      11.85    -0.27321   \n",
       "3                  194.19  1.597370      170.0      14.00    -0.30350   \n",
       "4                  194.19  1.597370      175.0      15.53    -0.33531   \n",
       "...                   ...       ...        ...        ...         ...   \n",
       "72535              293.20  2.060274      350.0      80.38    -0.69845   \n",
       "72536              293.20  2.060274      360.0      82.05    -0.74304   \n",
       "72537              293.20  2.060274      370.0     111.23    -0.78759   \n",
       "72538              293.20  2.060274      380.0      97.00    -0.83230   \n",
       "72539              293.20  2.060274      430.0     143.05    -1.00000   \n",
       "\n",
       "        [P_GAMMA]   [P_VEGA]   [P_THETA]   [P_RHO]   [P_IV]      Put_BS  \\\n",
       "0         0.00458    0.71246    -0.01784  -0.82469  0.25979    6.751424   \n",
       "1         0.00499    0.75959    -0.01922  -0.93018  0.25462    7.759016   \n",
       "2         0.00539    0.80422    -0.01951  -1.04431  0.24932    8.862789   \n",
       "3         0.00573    0.84444    -0.02100  -1.16709  0.24518   10.166727   \n",
       "4         0.00607    0.87844    -0.02109  -1.29530  0.23976   11.495512   \n",
       "...           ...        ...         ...       ...      ...         ...   \n",
       "72535     0.00415    1.41879    -0.02242  -5.75046  0.19411   59.202701   \n",
       "72536     0.00396    1.30360    -0.02135  -6.15503  0.18650   65.179230   \n",
       "72537     0.00361    1.15885    -0.01832  -6.57983  0.17749   71.388575   \n",
       "72538     0.00330    0.98488    -0.01639  -7.00828  0.16808   78.021552   \n",
       "72539     0.00000   47.41053     0.00000   0.00000  0.00018  117.744916   \n",
       "\n",
       "         Put_LSTM  \n",
       "0       10.223564  \n",
       "1       11.630687  \n",
       "2       13.089265  \n",
       "3       14.684264  \n",
       "4       16.382809  \n",
       "...           ...  \n",
       "72535   71.422640  \n",
       "72536   84.157390  \n",
       "72537   95.956640  \n",
       "72538  105.336150  \n",
       "72539  170.930710  \n",
       "\n",
       "[72540 rows x 12 columns]"
      ]
     },
     "metadata": {},
     "execution_count": 15
    }
   ],
   "metadata": {}
  },
  {
   "cell_type": "code",
   "execution_count": 16,
   "source": [
    "df_S=df[df[' [DTE]']<0.1]"
   ],
   "outputs": [],
   "metadata": {}
  },
  {
   "cell_type": "code",
   "execution_count": 18,
   "source": [
    "y_true=df_S[' [P_LAST]']\r\n",
    "y_pred=df_S['Put_LSTM']\r\n",
    "print('MAE = ', mean_absolute_error(y_true, y_pred))\r\n",
    "print('MSE = ', mean_squared_error(y_true, y_pred))\r\n",
    "print('RMSE = ', mean_squared_error(y_true, y_pred, squared=False))"
   ],
   "outputs": [
    {
     "output_type": "stream",
     "name": "stdout",
     "text": [
      "MAE =  1.1607071005913898\n",
      "MSE =  3.985826876772816\n",
      "RMSE =  1.996453574910475\n"
     ]
    }
   ],
   "metadata": {}
  },
  {
   "cell_type": "code",
   "execution_count": 19,
   "source": [
    "df_M=df[df[' [DTE]'].between(0.1,0.5)]"
   ],
   "outputs": [],
   "metadata": {}
  },
  {
   "cell_type": "code",
   "execution_count": 20,
   "source": [
    "y_true=df_M[' [P_LAST]']\r\n",
    "y_pred=df_M['Put_LSTM']\r\n",
    "print('MAE = ', mean_absolute_error(y_true, y_pred))\r\n",
    "print('MSE = ', mean_squared_error(y_true, y_pred))\r\n",
    "print('RMSE = ', mean_squared_error(y_true, y_pred, squared=False))"
   ],
   "outputs": [
    {
     "output_type": "stream",
     "name": "stdout",
     "text": [
      "MAE =  1.3366863619064229\n",
      "MSE =  5.130962422936842\n",
      "RMSE =  2.2651627806709262\n"
     ]
    }
   ],
   "metadata": {}
  },
  {
   "cell_type": "code",
   "execution_count": 21,
   "source": [
    "df_L=df[df[' [DTE]']>0.5]"
   ],
   "outputs": [],
   "metadata": {}
  },
  {
   "cell_type": "code",
   "execution_count": 22,
   "source": [
    "y_true=df_L[' [P_LAST]']\r\n",
    "y_pred=df_L['Put_LSTM']\r\n",
    "print('MAE = ', mean_absolute_error(y_true, y_pred))\r\n",
    "print('MSE = ', mean_squared_error(y_true, y_pred))\r\n",
    "print('RMSE = ', mean_squared_error(y_true, y_pred, squared=False))"
   ],
   "outputs": [
    {
     "output_type": "stream",
     "name": "stdout",
     "text": [
      "MAE =  1.6896574775084778\n",
      "MSE =  13.5041666795413\n",
      "RMSE =  3.6748015836969077\n"
     ]
    }
   ],
   "metadata": {}
  },
  {
   "cell_type": "code",
   "execution_count": 23,
   "source": [
    "x1=df_S[' [P_LAST]']\r\n",
    "y1=df_S['Put_LSTM']\r\n",
    "x2=df_M[' [P_LAST]']\r\n",
    "y2=df_M['Put_LSTM']\r\n",
    "x3=df_L[' [P_LAST]']\r\n",
    "y3=df_L['Put_LSTM']\r\n",
    "plt.scatter(x1, y1,color='red',linewidth=0.2,alpha=0.5, s=0.5, label='S')\r\n",
    "plt.xlabel('Actual Price')\r\n",
    "plt.ylabel('Calculated Price') \r\n",
    "plt.show()\r\n",
    "plt.scatter(x2, y2,color='blue',linewidth=0.2,alpha=0.5, s=0.5, label='M')\r\n",
    "plt.xlabel('Actual Price')\r\n",
    "plt.ylabel('Calculated Price') \r\n",
    "plt.show()\r\n",
    "plt.scatter(x3, y3,color='green',linewidth=0.2,alpha=0.5, s=0.5, label='L')\r\n",
    "plt.xlabel('Actual Price')\r\n",
    "plt.ylabel('Calculated Price') \r\n",
    "plt.show()\r\n"
   ],
   "outputs": [
    {
     "output_type": "display_data",
     "data": {
      "image/png": "[encoded data removed]",
      "text/plain": [
       "<Figure size 432x288 with 1 Axes>"
      ]
     },
     "metadata": {
      "needs_background": "light"
     }
    },
    {
     "output_type": "display_data",
     "data": {
      "image/png": "[encoded data removed]",
      "text/plain": [
       "<Figure size 432x288 with 1 Axes>"
      ]
     },
     "metadata": {
      "needs_background": "light"
     }
    },
    {
     "output_type": "display_data",
     "data": {
      "image/png": "[encoded data removed]",
      "text/plain": [
       "<Figure size 432x288 with 1 Axes>"
      ]
     },
     "metadata": {
      "needs_background": "light"
     }
    }
   ],
   "metadata": {}
  },
  {
   "cell_type": "code",
   "execution_count": null,
   "source": [],
   "outputs": [],
   "metadata": {}
  },
  {
   "cell_type": "code",
   "execution_count": null,
   "source": [],
   "outputs": [],
   "metadata": {}
  },
  {
   "cell_type": "code",
   "execution_count": null,
   "source": [],
   "outputs": [],
   "metadata": {}
  }
 ],
 "metadata": {
  "orig_nbformat": 4,
  "language_info": {
   "name": "python",
   "version": "3.8.8",
   "mimetype": "text/x-python",
   "codemirror_mode": {
    "name": "ipython",
    "version": 3
   },
   "pygments_lexer": "ipython3",
   "nbconvert_exporter": "python",
   "file_extension": ".py"
  },
  "kernelspec": {
   "name": "python3",
   "display_name": "Python 3.8.8 64-bit ('base': conda)"
  },
  "interpreter": {
   "hash": "b310091ee003783f556d785ff3b15c9e2c80cd092c59d33a102c114cf3375f02"
  }
 },
 "nbformat": 4,
 "nbformat_minor": 2
}